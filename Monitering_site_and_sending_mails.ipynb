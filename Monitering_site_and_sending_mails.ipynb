{
 "cells": [
  {
   "cell_type": "code",
   "execution_count": 3,
   "metadata": {},
   "outputs": [
    {
     "name": "stdout",
     "output_type": "stream",
     "text": [
      "running\n",
      "Data not updated\n",
      "Data not updated\n",
      "Data not updated\n",
      "Data not updated\n",
      "Data not updated\n",
      "Data not updated\n",
      "Data not updated\n"
     ]
    },
    {
     "ename": "KeyboardInterrupt",
     "evalue": "",
     "output_type": "error",
     "traceback": [
      "\u001b[1;31m---------------------------------------------------------------------------\u001b[0m",
      "\u001b[1;31mKeyboardInterrupt\u001b[0m                         Traceback (most recent call last)",
      "\u001b[1;32m<ipython-input-3-5308028a982f>\u001b[0m in \u001b[0;36m<module>\u001b[1;34m\u001b[0m\n\u001b[0;32m     48\u001b[0m \u001b[1;33m\u001b[0m\u001b[0m\n\u001b[0;32m     49\u001b[0m         \u001b[1;31m# wait for 10 seconds\u001b[0m\u001b[1;33m\u001b[0m\u001b[1;33m\u001b[0m\u001b[1;33m\u001b[0m\u001b[0m\n\u001b[1;32m---> 50\u001b[1;33m         \u001b[0mtime\u001b[0m\u001b[1;33m.\u001b[0m\u001b[0msleep\u001b[0m\u001b[1;33m(\u001b[0m\u001b[1;36m10\u001b[0m\u001b[1;33m)\u001b[0m\u001b[1;33m\u001b[0m\u001b[1;33m\u001b[0m\u001b[0m\n\u001b[0m\u001b[0;32m     51\u001b[0m \u001b[1;33m\u001b[0m\u001b[0m\n\u001b[0;32m     52\u001b[0m         \u001b[1;31m# perform the get request\u001b[0m\u001b[1;33m\u001b[0m\u001b[1;33m\u001b[0m\u001b[1;33m\u001b[0m\u001b[0m\n",
      "\u001b[1;31mKeyboardInterrupt\u001b[0m: "
     ]
    }
   ],
   "source": [
    "#importing libraries and modules\n",
    "import time\n",
    "import hashlib\n",
    "import smtplib\n",
    "from urllib.request import urlopen, Request\n",
    "  \n",
    "# setting the URL we want to monitor\n",
    "url = Request('http://125.19.52.218/realtime/', headers={'User-Agent': 'Mozilla/5.0'})\n",
    "  \n",
    "#get the url and read it\n",
    "response = urlopen(url).read()\n",
    "\n",
    "#creating func. for sending alert mails\n",
    "def notify_user():\n",
    "    with smtplib.SMTP('smtp.gmail.com', 587) as smtp:\n",
    "        smtp.ehlo()\n",
    "        smtp.starttls()\n",
    "        smtp.ehlo()\n",
    "        \n",
    "        #logging to mail\n",
    "        smtp.login(EMAIL_ADDRESS, EMAIL_PASSWORD)\n",
    "\n",
    "        subject = \"SITE IS UPDATED\"\n",
    "        body = \"Make sure to collect the updated data of the site!\"\n",
    "        \n",
    "        #combining message using \"F-String\"\n",
    "        msg = f'Subject: {subject}\\n\\n{body}'\n",
    "\n",
    "        #sending mail to reciever\n",
    "        smtp.sendmail(EMAIL_ADDRESS, RECIEVER_EMAIL_ADDRESS, msg)\n",
    "\n",
    "        \n",
    "# to create the initial hash\n",
    "currentHash = hashlib.sha224(response).hexdigest()\n",
    "print(\"running\")\n",
    "\n",
    "#wait for 10 seconds\n",
    "time.sleep(10)\n",
    "\n",
    "#monitering the website\n",
    "while True:\n",
    "    try:\n",
    "        # perform the get request\n",
    "        response = urlopen(url).read()\n",
    "          \n",
    "        # create a hash\n",
    "        currentHash = hashlib.sha224(response).hexdigest()\n",
    "          \n",
    "        # wait for 10 seconds\n",
    "        time.sleep(10)\n",
    "          \n",
    "        # perform the get request\n",
    "        response = urlopen(url).read()\n",
    "          \n",
    "        # create a new hash\n",
    "        newHash = hashlib.sha224(response).hexdigest()\n",
    "  \n",
    "        # check if new hash is same as the previous hash\n",
    "        if newHash == currentHash:\n",
    "            print(\"Data not updated\")\n",
    "            continue\n",
    "  \n",
    "        # if something changed in the hashes\n",
    "        else:\n",
    "            # notify\n",
    "            #notify_user()\n",
    "            print(\"Data updated\")\n",
    "  \n",
    "            # again read the website\n",
    "            response = urlopen(url).read()\n",
    "  \n",
    "            # create a hash\n",
    "            currentHash = hashlib.sha224(response).hexdigest()\n",
    "  \n",
    "            # wait for 10 seconds\n",
    "            time.sleep(10)\n",
    "            continue\n",
    "              \n",
    "    #handling exceptions\n",
    "    except Exception as e:\n",
    "        print(\"error\")"
   ]
  },
  {
   "cell_type": "code",
   "execution_count": null,
   "metadata": {},
   "outputs": [],
   "source": []
  }
 ],
 "metadata": {
  "kernelspec": {
   "display_name": "Python 3",
   "language": "python",
   "name": "python3"
  },
  "language_info": {
   "codemirror_mode": {
    "name": "ipython",
    "version": 3
   },
   "file_extension": ".py",
   "mimetype": "text/x-python",
   "name": "python",
   "nbconvert_exporter": "python",
   "pygments_lexer": "ipython3",
   "version": "3.7.4"
  }
 },
 "nbformat": 4,
 "nbformat_minor": 2
}
